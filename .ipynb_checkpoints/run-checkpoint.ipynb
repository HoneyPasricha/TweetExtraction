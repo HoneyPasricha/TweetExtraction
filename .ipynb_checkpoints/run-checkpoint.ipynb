{
 "cells": [
  {
   "cell_type": "markdown",
   "metadata": {},
   "source": [
    "王振华、祁雅萍\n",
    "## 静态部分\n",
    "1. 文本预处理(分词、停用词等)\n",
    "2. Tf-Idf将文本向量化\n",
    "3. kmeans初步聚类，每一个cluster用一个TSV来表示\n",
    "4. 对每个TSV摘要\n",
    "    - LexRank(或者其他)获得与该TSV中心最接近的Tweet\n",
    "    - 为防止获得的摘要内容过于接近，采用以下办法\n",
    "    - 按公式，获得尽可能接近TSV中心、又与之前得到的推特相似度尽可能小的Tweet，其中$\\lambda$是可以调节的参数\n",
    "    $$\n",
    "      t = argmax_{t_i} [ \\lambda \\frac{n_{t_i}}{n_{max}} LR(t_i) - (1-\\lambda)avg_{t_j \\in S}Sim(t_i, t_j)  ]\n",
    "    $$\n",
    "    - 往复上述步骤，获得若干条高度概括，内容有所不同的Tweet\n",
    "\n",
    "## 动态部分\n",
    "1. Pyramidal Time Frame\n",
    "2. 新的Tweet进来，寻找相似度最大cluster，比较“minimum bounding similarity”，\n",
    "    - 若MBS<Sim(new tweet)，则将该tweet加入该cluster；\n",
    "    - 若MBS>Sim(new tweet)，则新建一个cluster；\n",
    "3. 我们认为话题的时间分布是符合正态的，已知tsv可计算时间均值和方差，故可以此估计话题时间线是否已到达正态曲线的末端\n",
    "4. 当cluster的数量过多时，我们需要进行合并\n",
    "    \n",
    "## 待解决\n",
    "1. 词袋在开始时就已经确定，无法随时间变化而更新\n",
    "2. 使用kmeans聚类时，没有考虑时间\n",
    "    - 高永兵, 陈超, 熊振华,等. 基于个人微博特征的事件提取研究[J]. 计算机应用与软件, 2016, 33(7):47-51.\n",
    "    - 先将tweet按时间分组，分别聚类，再逐渐合并\n",
    "3. 只实现了静态部分，待效果达到要求后再考虑tweet stream \n",
    "4. 摘要只做到了extraction, 而不是abstraction. 需要将其进一步整合为3W1H的结构化数据\n",
    "    - what : 发生了什么\n",
    "    - who : 实体识别，命名体识别\n",
    "    - when : 每个聚类前1%作为事件发生时间\n",
    "    - how : 详细描述\n",
    "\n",
    "## 其他\n",
    "0. 当前品牌的地理分布不明显，暂时不考虑地理因素\n",
    "0. 仅针对Tweet这类体裁，需要考虑url, hashtag, 发帖人之间的关系等\n",
    "0. 暂时没有考虑发帖用户的比重(暂时令wi=1\n",
    "0. 对命名实体加权，使结果尽量返回带有命名实体的内容(tf加权, idf不变)\n",
    "\n"
   ]
  },
  {
   "cell_type": "code",
   "execution_count": 1,
   "metadata": {},
   "outputs": [],
   "source": [
    "%load_ext autoreload\n",
    "%autoreload 2\n",
    "import jieba\n",
    "import numpy as np\n",
    "import pprint\n",
    "pp = pprint.PrettyPrinter(indent=4)\n",
    "from datetime import datetime \n",
    "from snownlp import normal\n",
    "from matplotlib import pyplot as plt\n",
    "import sklearn.cluster as skcluster\n",
    "from datatype import *\n",
    "from summary import *\n",
    "from vectorizerIt import *\n",
    "from filereader import *"
   ]
  },
  {
   "cell_type": "code",
   "execution_count": 2,
   "metadata": {},
   "outputs": [
    {
     "name": "stdout",
     "output_type": "stream",
     "text": [
      "781\n",
      "!! ['post_id', 'post_time', 'content', 'poster_id', 'poster_url', 'repost_num', 'comment_num', 'repost_post_id', 'inner_flag']\n",
      "!! ['3.74487E+15', '', '', '', '', '', '', '', '']\n",
      "!! ['3.66561E+15', '2014/1/11 17:26', '????????~!!!!!!!!?????????????????????~!!^^??????????????~^^', '2600208451', '', '', '', '', '']\n",
      "11581\n"
     ]
    }
   ],
   "source": [
    "users = readUsers('data/weibo_user.csv')\n",
    "tweets = readTweets('data/user_posts.csv', noUrl=True, noTopic=True, noAtUser=True)"
   ]
  },
  {
   "cell_type": "code",
   "execution_count": 3,
   "metadata": {},
   "outputs": [
    {
     "name": "stderr",
     "output_type": "stream",
     "text": [
      "Building prefix dict from the default dictionary ...\n",
      "2017-07-06 23:09:11,029 : DEBUG : Building prefix dict from the default dictionary ...\n",
      "Loading model from cache /tmp/jieba.cache\n",
      "2017-07-06 23:09:11,035 : DEBUG : Loading model from cache /tmp/jieba.cache\n",
      "Loading model cost 3.953 seconds.\n",
      "2017-07-06 23:09:14,986 : DEBUG : Loading model cost 3.953 seconds.\n",
      "Prefix dict has been built succesfully.\n",
      "2017-07-06 23:09:14,990 : DEBUG : Prefix dict has been built succesfully.\n"
     ]
    }
   ],
   "source": [
    "# 分词\n",
    "corpusl_wsw = [jieba.lcut(t.content) for t in tweets]\n",
    "corpusl = [normal.filter_stop(c) for c in corpusl_wsw]\n",
    "corpus = [' '.join(c) for c in corpusl]"
   ]
  },
  {
   "cell_type": "code",
   "execution_count": 4,
   "metadata": {},
   "outputs": [],
   "source": [
    "otfidf = TfIdf(corpus)\n",
    "# ow2v = Word2Vec(corpusl, 100)\n",
    "# od2v = Doc2Vec(corpusl_wsw, 100)\n",
    "vecit = otfidf"
   ]
  },
  {
   "cell_type": "code",
   "execution_count": 5,
   "metadata": {},
   "outputs": [],
   "source": [
    "'''\n",
    "(tvi;tsi;wi;t)\n",
    "where tvi is the textual vector, \n",
    "tsi is the posted timestamp \n",
    "and wi is the UserRank value of the tweet’s author.\n",
    "'''\n",
    "def generateTriples(tweets, o):\n",
    "    triples = []\n",
    "    for i, t in enumerate(tweets):\n",
    "        tvi = o.vecs[i]\n",
    "        tsi = t.post_time\n",
    "        wi = 1\n",
    "        triples.append(TweetVector(tvi, tsi, wi, t))\n",
    "    return triples\n",
    "triples = generateTriples(tweets, vecit)"
   ]
  },
  {
   "cell_type": "code",
   "execution_count": 6,
   "metadata": {},
   "outputs": [
    {
     "data": {
      "text/plain": [
       "KMeans(algorithm='auto', copy_x=True, init='random', max_iter=300,\n",
       "    n_clusters=10, n_init=3, n_jobs=1, precompute_distances='auto',\n",
       "    random_state=None, tol=0.0001, verbose=0)"
      ]
     },
     "execution_count": 6,
     "metadata": {},
     "output_type": "execute_result"
    }
   ],
   "source": [
    "# k-means cluster\n",
    "n_clusters = 10\n",
    "km = skcluster.KMeans(n_clusters=n_clusters, init='random', n_init=3, verbose=0)\n",
    "# km = skcluster.MeanShift()\n",
    "km.fit(vecit.vecs)"
   ]
  },
  {
   "cell_type": "code",
   "execution_count": 7,
   "metadata": {},
   "outputs": [
    {
     "name": "stdout",
     "output_type": "stream",
     "text": [
      "11581 11581\n"
     ]
    },
    {
     "data": {
      "image/png": "[encoded data removed]",
      "text/plain": [
       "<matplotlib.figure.Figure at 0x7fc0bc7e6fd0>"
      ]
     },
     "metadata": {},
     "output_type": "display_data"
    }
   ],
   "source": [
    "'''\n",
    "tweet cluster vector is defined as a tuple: (sum_v; wsum_v; ts1; ts2; n; ft_set)\n",
    "'''\n",
    "print(len(km.labels_), len(triples))\n",
    "clusters = [[] for _ in range(n_clusters)]\n",
    "for i in range(len(km.labels_)):\n",
    "    clusters[km.labels_[i]].append(triples[i])\n",
    "# for c in clusters:\n",
    "#     print(len(c))\n",
    "tsvs = []\n",
    "for c in clusters:\n",
    "    if len(c) < 20:\n",
    "        continue\n",
    "    tsvs.append(TSV(c, 50))\n",
    "    \n",
    "plt.bar(range(len(clusters)),[len(c) for c in clusters],width = 0.35,facecolor = 'gray',edgecolor = 'white')\n",
    "plt.show()"
   ]
  },
  {
   "cell_type": "code",
   "execution_count": 9,
   "metadata": {},
   "outputs": [
    {
     "name": "stdout",
     "output_type": "stream",
     "text": [
      "[   '???????.~^^??????????????~^^?????????~^^??',\n",
      "    '???????！！！',\n",
      "    '要去要去//://:',\n",
      "    '心如果乱了一切都乱了',\n",
      "    '??~??????????~?????????.~!?????????~??????~!???????????~^^']\n"
     ]
    }
   ],
   "source": [
    "pp.pprint([tv.t.content for tv in tsvs[8].ft_set[:5]])"
   ]
  },
  {
   "cell_type": "code",
   "execution_count": 11,
   "metadata": {},
   "outputs": [
    {
     "name": "stdout",
     "output_type": "stream",
     "text": [
      "('哈哈哈哈哈哈笑死我了', '哈哈哈哈哈哈！谢谢你黑我', '熊孩子们！！！！！！！！哈哈哈哈哈哈')\n",
      "(   '来看看我拍的MV，点此播放&gt;&gt;|美拍（通过录制）',\n",
      "    '来看看我拍的MV：“”，点此播放&gt;&gt;|美拍（通过录制）',\n",
      "    '来看看我拍的MV，点此播放&gt;&gt;|美拍（通过录制）')\n",
      "(   '【仅剩3小时】22点，小米4最后一场放货，特别版1799元！4G红米疯抢中：红米移动4G版599元，红米Note移动4G/联通4G增强版899元！小米电视2/小米平板0首付分期购。全场配件6折起，小米手环、小米路由器mini直接买。支付金额已破14亿，有你的贡献请转发！',\n",
      "    '【19点54分小米旗舰店已支付手机100万台】小米4晚八点再次开卖：特别版1799元，标准版1999元起；4G红米直降100全天放货：红米移动4G版599元，红米Note移动4G/联通4G增强版899元；小米3/小米电视2/小米平板享0元分期购，先使用再付款。热卖中，欲购从速→',\n",
      "    '只要米粉想要，小米努力做到！转发为物流小伙伴鼓掌！')\n",
      "('//://:转发微博', '我在追//://://:转发微博', '?这个靠谱嘛？//:转发微博')\n",
      "(   '对手指干净的男生特有好感，有时甚至会因为一双手爱上一个男生。',\n",
      "    '女生每个月都有那么几天特别情绪化，尽管男生永远无法体会，但男生是应该做到体谅的，当然啦亲爱的姑娘们，适当收敛下自己的小情绪和坏脾气，只有爱你的男生才会包容你的一切。',\n",
      "    '男生，你凭什么不努力？')\n",
      "(   '一个人至少拥有一个梦想，有一个理由去坚强。',\n",
      "    '喜欢一个人，就是在一起很开心；爱一个人，就是即使不开心，也想在一起。',\n",
      "    '当你喜欢某一个人的时候，会是什么样的感觉？')\n",
      "(   '今晚19：30，请锁定体育频道，收看《天下足球》！',\n",
      "    '【节目时间通知】今晚19:30由于直播中超榜首战国安VS恒大，本期《天下足球》临时更改为明晚（星期二）的19:30直播，请您不要错过收看。这期《天下足球》将会带来欧冠决赛特辑+绝对巨星：“蓝黑超人”萨内蒂+13/14赛季欧洲联赛50大进球，精彩不容错过！',\n",
      "    '由于下周一晚19:30直播中超焦点战国安VS恒大，所以下期《天下足球》临时更改为下周二（5月27日）晚上19:30播出，请注意调整时间观看。下期节目除了带来欧冠决赛特别报道之外，还将播出《绝对巨星——萨内蒂：蓝黑超人》。这绝对将是超值的一期节目，请不要错过收看。')\n",
      "(   '感谢感谢非常感谢。又蹭了一顿',\n",
      "    '感谢大家，感谢，没有，奖金捐给',\n",
      "    '謝謝好心的各位！好開心喔?//:恭喜熙媛！感谢盆友们的每一次投票！////:恭喜熙媛，同时也感谢小伙伴们的共同努力！热烈的撒花吧')\n",
      "('喜欢的人，简单的牵手就会很开心。不喜欢的人，听他说话都是一种煎熬。', '支持！！！大家加油！', '【侣友互动】希望你在中发现不一样的自己。')\n",
      "(   '11.11你要了吗?',\n",
      "    '\"今天是11月9日，即“119”；明天是11月10日',\n",
      "    '【10:00开抢】本次双11购车狂欢节第11辆五折幻速咯~机会难得不容错过！三万多拿下北汽热销SUV：|0.99元秒杀11月11日北汽幻速S2豪华型5折')\n"
     ]
    }
   ],
   "source": [
    "# summary\n",
    "for tsv in tsvs:\n",
    "    pp.pprint(summaryLexRank(tsv, 3))\n",
    "    "
   ]
  },
  {
   "cell_type": "code",
   "execution_count": 10,
   "metadata": {},
   "outputs": [
    {
     "name": "stdout",
     "output_type": "stream",
     "text": [
      "['哈哈哈哈哈哈笑死我了', 'WiFi今天學會了睜一隻眼閉一隻眼，哈哈哈。', '哈哈哈你们这帮坏人，还让不让人好好看电视了！！！（转）']\n",
      "[   '来看看我拍的MV，点此播放&gt;&gt;|美拍（通过录制）',\n",
      "    '乐友孕婴童&gt;&gt;&gt;',\n",
      "    '来看看我拍的MV：“玩得手气泡，玩得脚断了。”，点此播放&gt;&gt;|美拍（通过录制）']\n",
      "[   '只要米粉想要，小米努力做到！转发为物流小伙伴鼓掌！',\n",
      "    '【仅剩3小时】22点，小米4最后一场放货，特别版1799元！4G红米疯抢中：红米移动4G版599元，红米Note移动4G/联通4G增强版899元！小米电视2/小米平板0首付分期购。全场配件6折起，小米手环、小米路由器mini直接买。支付金额已破14亿，有你的贡献请转发！',\n",
      "    '北京今天最低温度零下3℃，冬天真的来了！小伙伴那边冷吗？|小米公司']\n",
      "[   '//://:转发微博',\n",
      "    '新版微博客户端全新发布啦！发布器全面升级，更多兴趣快捷分享；新增微博支付，移动消费一触即达；手机端快捷参与活动，新春豪礼送不停！赶紧更新抢红包！下载地址：',\n",
      "    '小伙伴们以后看电视的时候记得刷微博噢说不定还有机会在电视上看到你的微博~~']\n",
      "[   '女生每个月都有那么几天特别情绪化，尽管男生永远无法体会，但男生是应该做到体谅的，当然啦亲爱的姑娘们，适当收敛下自己的小情绪和坏脾气，只有爱你的男生才会包容你的一切。',\n",
      "    '对手指干净的男生特有好感，有时甚至会因为一双手爱上一个男生。',\n",
      "    '男生，你凭什么不努力？']\n",
      "[   '一个人至少拥有一个梦想，有一个理由去坚强。',\n",
      "    '每一次不同的通话都是一个故事。',\n",
      "    '很多时候，一个人发现自己爱上了一个人，都是在跟他分别的时候。突然一下子见不到那个人了，才知道自己已经不知不觉地对那个人产生了很强的依恋。']\n",
      "[   '由于下周一晚19:30直播中超焦点战国安VS恒大，所以下期《天下足球》临时更改为下周二（5月27日）晚上19:30播出，请注意调整时间观看。下期节目除了带来欧冠决赛特别报道之外，还将播出《绝对巨星——萨内蒂：蓝黑超人》。这绝对将是超值的一期节目，请不要错过收看。',\n",
      "    '今晚19：30，请锁定体育频道，收看《天下足球》！',\n",
      "    '今晚19点30分直播，敬请关注！']\n",
      "[   '感谢感谢非常感谢。又蹭了一顿',\n",
      "    '謝謝好心的各位！好開心喔?//:恭喜熙媛！感谢盆友们的每一次投票！////:恭喜熙媛，同时也感谢小伙伴们的共同努力！热烈的撒花吧',\n",
      "    '感谢大家，感谢，没有，奖金捐给']\n",
      "['喜欢的人，简单的牵手就会很开心。不喜欢的人，听他说话都是一种煎熬。', '支持！！！大家加油！', '【侣友互动】希望你在中发现不一样的自己。']\n",
      "[   '11.11你要了吗?',\n",
      "    '\"今天是11月9日，即“119”；明天是11月10日',\n",
      "    '【10:00开抢】本次双11购车狂欢节第11辆五折幻速咯~机会难得不容错过！三万多拿下北汽热销SUV：|0.99元秒杀11月11日北汽幻速S2豪华型5折']\n"
     ]
    }
   ],
   "source": [
    "# summary\n",
    "for tsv in tsvs:\n",
    "#     weibos = [tv.t.content for tv in tsv.ft_set]\n",
    "#     pp.pprint(summaryTextRank(weibos, 3))\n",
    "\n",
    "#     pp.pprint(summaryLexRank(tsv, 3))\n",
    "    pp.pprint(summaryTSVRank(tsv, 3, lbd=0.01, nmax=50))"
   ]
  },
  {
   "cell_type": "code",
   "execution_count": 72,
   "metadata": {},
   "outputs": [],
   "source": [
    "# def fun():\n",
    "#         summaryLexRank(tsv, 3)\n",
    "# %prun -s tottime fun()"
   ]
  },
  {
   "cell_type": "code",
   "execution_count": 14,
   "metadata": {},
   "outputs": [
    {
     "name": "stdout",
     "output_type": "stream",
     "text": [
      "<datatype.TSV object at 0x7f9939f13518> 0.592246965203\n",
      "0.27576886121\n"
     ]
    },
    {
     "data": {
      "image/png": "[encoded data removed]",
      "text/plain": [
       "<matplotlib.figure.Figure at 0x7f9937b7e2b0>"
      ]
     },
     "metadata": {},
     "output_type": "display_data"
    }
   ],
   "source": [
    "post = '\"今天是11月9日，即“119”；明天是11月10日'\n",
    "post = ' '.join(normal.filter_stop(jieba.lcut(post)))\n",
    "post_vec = vecit.vectorizer(post)\n",
    "# print(post_vec.data)\n",
    "t = Tweet('2015/10/11 14:33', \n",
    "          post, None, None, 1, 1)\n",
    "tv = TweetVector(post_vec,datetime(2015,10,11,14,33).timestamp(),1,t)\n",
    "\n",
    "def maxSimInTSVs(tv, tsvs):\n",
    "    maxSim_tsv = tsvs[0]\n",
    "    maxSim = maxSim_tsv.maxSim(tv)\n",
    "    sims = []\n",
    "    for tsv in tsvs:\n",
    "        sim = tsv.maxSim(tv)\n",
    "        sims.append(sim)\n",
    "        if sim > maxSim:\n",
    "            maxSim_tsv = tsv\n",
    "            maxSim = sim\n",
    "    return maxSim_tsv, maxSim, sims\n",
    "\n",
    "max_sim_tsv, max_sim, sims = maxSimInTSVs(tv, tsvs)\n",
    "print(max_sim_tsv, max_sim)\n",
    "print(max_sim_tsv.mbs(1))\n",
    "\n",
    "plt.bar(range(len(sims)),[tsv.mbs(0.5) for tsv in tsvs],width = 0.35,facecolor = 'yellowgreen',edgecolor = 'white')\n",
    "plt.bar(range(len(sims)),sims,width = 0.35,facecolor = 'lightskyblue',edgecolor = 'white')\n",
    "plt.show()"
   ]
  },
  {
   "cell_type": "code",
   "execution_count": 65,
   "metadata": {},
   "outputs": [
    {
     "data": {
      "text/plain": [
       "array([11627, 33855], dtype=int32)"
      ]
     },
     "execution_count": 65,
     "metadata": {},
     "output_type": "execute_result"
    }
   ],
   "source": [
    "tsvs[0].ft_set[1].tvi.nonzero()[1]"
   ]
  },
  {
   "cell_type": "code",
   "execution_count": 12,
   "metadata": {},
   "outputs": [
    {
     "data": {
      "image/png": "[encoded data removed]",
      "text/plain": [
       "<matplotlib.figure.Figure at 0x7f9937c7b048>"
      ]
     },
     "metadata": {},
     "output_type": "display_data"
    }
   ],
   "source": [
    "def cosine_similarity(v1, v2):\n",
    "    if sparse.issparse(v1):\n",
    "        return (sparse.csr_matrix.dot(v1, v2.transpose()) / \n",
    "                (normFor1DSparseMatrixNonZero(v1) * normFor1DSparseMatrixNonZero(v2)))[0,0]\n",
    "    return (np.dot(v1, v2)) / (normFor1DSparseMatrixNonZero(v1) * normFor1DSparseMatrixNonZero(v2))\n",
    "sims_8_to_8 = [cosine_similarity(tsvs[-2].cv, tv.tvi) for tv in tsvs[-2].ft_set]\n",
    "sims_8_to_9 = [cosine_similarity(tsvs[-1].cv, tv.tvi) for tv in tsvs[-2].ft_set]\n",
    "sims_9_to_8 = [cosine_similarity(tsvs[-2].cv, tv.tvi) for tv in tsvs[-1].ft_set]\n",
    "sims_9_to_9 = [cosine_similarity(tsvs[-1].cv, tv.tvi) for tv in tsvs[-1].ft_set]\n",
    "plt.scatter(sims_8_to_8,sims_8_to_9,c='red',alpha=0.2,marker='o')\n",
    "plt.scatter(sims_9_to_8,sims_9_to_9,c='blue',alpha=0.2,marker='o')\n",
    "plt.show()"
   ]
  }
 ],
 "metadata": {
  "kernelspec": {
   "display_name": "Python 3",
   "language": "python",
   "name": "python3"
  },
  "language_info": {
   "codemirror_mode": {
    "name": "ipython",
    "version": 3
   },
   "file_extension": ".py",
   "mimetype": "text/x-python",
   "name": "python",
   "nbconvert_exporter": "python",
   "pygments_lexer": "ipython3",
   "version": "3.6.0"
  }
 },
 "nbformat": 4,
 "nbformat_minor": 2
}
