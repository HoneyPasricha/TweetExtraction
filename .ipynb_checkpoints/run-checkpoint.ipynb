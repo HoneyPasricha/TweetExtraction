{
 "cells": [
  {
   "cell_type": "markdown",
   "metadata": {},
   "source": [
    "王振华、祁雅萍\n",
    "## 静态部分\n",
    "1. 文本预处理(分词、停用词等)\n",
    "2. Tf-Idf将文本向量化\n",
    "3. kmeans初步聚类，每一个cluster用一个TSV来表示\n",
    "4. 对每个TSV摘要\n",
    "    - LexRank(或者其他)获得与该TSV中心最接近的Tweet\n",
    "    - 为防止获得的摘要内容过于接近，采用以下办法\n",
    "    - 按公式，获得尽可能接近TSV中心、又与之前得到的推特相似度尽可能小的Tweet，其中$\\lambda$是可以调节的参数\n",
    "    $$\n",
    "      t = argmax_{t_i} [ \\lambda \\frac{n_{t_i}}{n_{max}} LR(t_i) - (1-\\lambda)avg_{t_j \\in S}Sim(t_i, t_j)  ]\n",
    "    $$\n",
    "    - 往复上述步骤，获得若干条高度概括，内容有所不同的Tweet\n",
    "\n",
    "## 动态部分\n",
    "1. Pyramidal Time Frame\n",
    "2. 新的Tweet进来，寻找相似度最大cluster，比较“minimum bounding similarity”，\n",
    "    - 若MBS<Sim(new tweet)，则将该tweet加入该cluster；\n",
    "    - 若MBS>Sim(new tweet)，则新建一个cluster；\n",
    "3. 我们认为话题的时间分布是符合正态的，已知tsv可计算时间均值和方差，故可以此估计话题时间线是否已到达正态曲线的末端\n",
    "4. 当cluster的数量过多时，我们需要进行合并\n",
    "    \n",
    "## 待解决\n",
    "1. 词袋在开始时就已经确定，无法随时间变化而更新\n",
    "2. 使用kmeans聚类时，没有考虑时间\n",
    "    - 高永兵, 陈超, 熊振华,等. 基于个人微博特征的事件提取研究[J]. 计算机应用与软件, 2016, 33(7):47-51.\n",
    "    - 先将tweet按时间分组，分别聚类，再逐渐合并\n",
    "3. 只实现了静态部分，待效果达到要求后再考虑tweet stream \n",
    "4. 摘要只做到了extraction, 而不是abstraction. 需要将其进一步整合为3W1H的结构化数据\n",
    "    - what : 发生了什么\n",
    "    - who : 实体识别，命名体识别\n",
    "    - when : 每个聚类前1%作为事件发生时间\n",
    "    - how : 详细描述\n",
    "\n",
    "## 其他\n",
    "0. 当前品牌的地理分布不明显，暂时不考虑地理因素\n",
    "0. 仅针对Tweet这类体裁，需要考虑url, hashtag, 发帖人之间的关系等\n",
    "0. 暂时没有考虑发帖用户的比重(暂时令wi=1\n",
    "0. 对命名实体加权，使结果尽量返回带有命名实体的内容(tf加权, idf不变)\n",
    "\n"
   ]
  },
  {
   "cell_type": "code",
   "execution_count": 10,
   "metadata": {},
   "outputs": [
    {
     "name": "stdout",
     "output_type": "stream",
     "text": [
      "The autoreload extension is already loaded. To reload it, use:\n",
      "  %reload_ext autoreload\n"
     ]
    }
   ],
   "source": [
    "%load_ext autoreload\n",
    "%autoreload 2\n",
    "import jieba\n",
    "import numpy as np\n",
    "import pprint\n",
    "pp = pprint.PrettyPrinter(indent=4)\n",
    "from datetime import datetime \n",
    "from snownlp import normal\n",
    "from matplotlib import pyplot as plt\n",
    "import sklearn.cluster as skcluster\n",
    "from datatype import *\n",
    "from summary import *\n",
    "from vectorizerIt import *\n",
    "from filereader import *"
   ]
  },
  {
   "cell_type": "code",
   "execution_count": 2,
   "metadata": {},
   "outputs": [
    {
     "name": "stdout",
     "output_type": "stream",
     "text": [
      "781\n",
      "!! ['post_id', 'post_time', 'content', 'poster_id', 'poster_url', 'repost_num', 'comment_num', 'repost_post_id', 'inner_flag']\n",
      "!! ['3.74487E+15', '', '', '', '', '', '', '', '']\n",
      "!! ['3.66561E+15', '2014/1/11 17:26', '????????~!!!!!!!!?????????????????????~!!^^??????????????~^^', '2600208451', '', '', '', '', '']\n",
      "11581\n"
     ]
    }
   ],
   "source": [
    "users = readUsers('data/weibo_user.csv')\n",
    "tweets = readTweets('data/user_posts.csv', noUrl=True, noTopic=True, noAtUser=True)"
   ]
  },
  {
   "cell_type": "code",
   "execution_count": 3,
   "metadata": {},
   "outputs": [
    {
     "name": "stderr",
     "output_type": "stream",
     "text": [
      "Building prefix dict from the default dictionary ...\n",
      "2017-07-12 01:32:52,771 : DEBUG : Building prefix dict from the default dictionary ...\n",
      "Loading model from cache /tmp/jieba.cache\n",
      "2017-07-12 01:32:52,780 : DEBUG : Loading model from cache /tmp/jieba.cache\n",
      "Loading model cost 4.714 seconds.\n",
      "2017-07-12 01:32:57,493 : DEBUG : Loading model cost 4.714 seconds.\n",
      "Prefix dict has been built succesfully.\n",
      "2017-07-12 01:32:57,497 : DEBUG : Prefix dict has been built succesfully.\n"
     ]
    }
   ],
   "source": [
    "# 分词\n",
    "corpusl_wsw = [jieba.lcut(t.content) for t in tweets]\n",
    "corpusl = [normal.filter_stop(c) for c in corpusl_wsw]\n",
    "corpus = [' '.join(c) for c in corpusl]"
   ]
  },
  {
   "cell_type": "code",
   "execution_count": 66,
   "metadata": {},
   "outputs": [],
   "source": [
    "# otfidf = TfIdf(corpus)\n",
    "odfidf = DfIdf(corpus)\n",
    "# ow2v = Word2Vec(corpusl, 100)\n",
    "# od2v = Doc2Vec(corpusl_wsw, 100)\n",
    "vecit = odfidf"
   ]
  },
  {
   "cell_type": "code",
   "execution_count": 67,
   "metadata": {},
   "outputs": [],
   "source": [
    "'''\n",
    "(tvi;tsi;wi;t)\n",
    "where tvi is the textual vector, \n",
    "tsi is the posted timestamp \n",
    "and wi is the UserRank value of the tweet’s author.\n",
    "'''\n",
    "def generateTriples(tweets, o):\n",
    "    triples = []\n",
    "    for i, t in enumerate(tweets):\n",
    "        tvi = o.vecs[i]\n",
    "        tsi = t.post_time\n",
    "        wi = 1\n",
    "        triples.append(TweetVector(tvi, tsi, wi, t))\n",
    "    return triples\n",
    "triples = generateTriples(tweets, vecit)"
   ]
  },
  {
   "cell_type": "code",
   "execution_count": 79,
   "metadata": {},
   "outputs": [
    {
     "data": {
      "text/plain": [
       "KMeans(algorithm='auto', copy_x=True, init='random', max_iter=300,\n",
       "    n_clusters=30, n_init=3, n_jobs=1, precompute_distances='auto',\n",
       "    random_state=None, tol=0.0001, verbose=0)"
      ]
     },
     "execution_count": 79,
     "metadata": {},
     "output_type": "execute_result"
    }
   ],
   "source": [
    "# k-means cluster\n",
    "n_clusters = 30\n",
    "km = skcluster.KMeans(n_clusters=n_clusters, init='random', n_init=3, verbose=0)\n",
    "# km = skcluster.MeanShift()\n",
    "km.fit(vecit.vecs)"
   ]
  },
  {
   "cell_type": "code",
   "execution_count": null,
   "metadata": {},
   "outputs": [],
   "source": [
    "'''\n",
    "tweet cluster vector is defined as a tuple: (sum_v; wsum_v; ts1; ts2; n; ft_set)\n",
    "'''\n",
    "print(len(km.labels_), len(triples))\n",
    "clusters = [[] for _ in range(n_clusters)]\n",
    "for i in range(len(km.labels_)):\n",
    "    clusters[km.labels_[i]].append(triples[i])\n",
    "# for c in clusters:\n",
    "#     print(len(c))\n",
    "tsvs = []\n",
    "for c in clusters:\n",
    "    if len(c) < 20:\n",
    "        continue\n",
    "    tsvs.append(TSV(c, 50))\n",
    "    "
   ]
  },
  {
   "cell_type": "code",
   "execution_count": 94,
   "metadata": {},
   "outputs": [
    {
     "data": {
      "image/png": "[encoded data removed]",
      "text/plain": [
       "<matplotlib.figure.Figure at 0x7fb9a2486d30>"
      ]
     },
     "metadata": {},
     "output_type": "display_data"
    }
   ],
   "source": [
    "plt.bar(range(len(tsvs)),[tsv.n for tsv in tsvs],width = 0.35,facecolor = 'gray',edgecolor = 'white')\n",
    "plt.show()"
   ]
  },
  {
   "cell_type": "code",
   "execution_count": 95,
   "metadata": {},
   "outputs": [
    {
     "data": {
      "image/png": "[encoded data removed]",
      "text/plain": [
       "<matplotlib.figure.Figure at 0x7fb9a26c29e8>"
      ]
     },
     "metadata": {},
     "output_type": "display_data"
    }
   ],
   "source": [
    "plt.bar(range(len(clusters)),[len(c) for c in clusters],width = 0.35,facecolor = 'gray',edgecolor = 'white')\n",
    "plt.show()"
   ]
  },
  {
   "cell_type": "code",
   "execution_count": 93,
   "metadata": {},
   "outputs": [
    {
     "name": "stdout",
     "output_type": "stream",
     "text": [
      "28\n"
     ]
    }
   ],
   "source": [
    "# pp.pprint([tv.t.content for tv in tsvs[27].ft_set[:2]])\n",
    "print(len(tsvs))"
   ]
  },
  {
   "cell_type": "code",
   "execution_count": 82,
   "metadata": {},
   "outputs": [
    {
     "name": "stdout",
     "output_type": "stream",
     "text": [
      "(   '我把中国版的跑男快录完了，那你有什么要问我的么？',\n",
      "    '中国人只相信进口水吗？',\n",
      "    '（下文)一进门我就问服务员最近生意怎么样？她说不好，受很大影响。我和好友开玩笑说，咱们来这里吃是不是不爱国？出门会不会被殴打？唉...我想说，日本在中国的企业和商铺等关门，作为一个中国人我表示支持；如果是中国人的餐饮店，还是不要计较的好，做个生意不容易，中国人何必为难自己人呀！')\n",
      "(   '来看看我拍的MV，点此播放&gt;&gt;|美拍（通过录制）',\n",
      "    '来看看我拍的MV：“”，点此播放&gt;&gt;|美拍（通过录制）',\n",
      "    '来看看我拍的MV，点此播放&gt;&gt;|美拍（通过录制）')\n",
      "('，超喜欢超喜欢，两个都超喜欢', '我也喜欢?//:好美！喜欢！', '每个人，都会为了喜欢的人，去做一些自己不喜欢的事情。')\n",
      "(   '五笔输入法好坑爹，我本来想说“我在洗漱“，打出来成了”我在洗翔“，你妹啊。',\n",
      "    '一大早就在这为了钱而吵架，本来就是说不清楚的帐，怎么就能那么平均哪？',\n",
      "    '本来没有我们，当然也没有你们，同样也没有帮助和伤害。')\n",
      "(   '两次北京暴雨我都不在北京，运气真的不错。回家的感觉真是好，何时再回北京未定。希望在北京的朋友一切顺利!我在',\n",
      "    '【侣友互动】希望你在中发现不一样的自己。',\n",
      "    '待续....第二天早上开完几个将来电影的会，下午就飞回北京从北京转机飞郑州，行程就如此的紧凑，郑州洛阳郑州为自己第三个西安影城开幕，...')\n",
      "('每个人都会有这样的感觉吧', '\"我感觉我最近可能会有点作。恩', '看它那熊样！想吐的感觉！')\n",
      "(   '我以为。。。这就是幸福了。',\n",
      "    '原来全家福也可以这样照是不是很幸福啊~',\n",
      "    '当我们感到幸福的时候，何必去想这幸福是永恒的，还是暂时的。——忧虑，是幸福最大的敌人。')\n",
      "('一直看到的是图终于知道在哪里了!!!一定要去!!!', '锤锤终于用上了人家。', '终于可以买瓶水喝了。')\n",
      "('//://:转发微博', '我在追//://://:转发微博', '?这个靠谱嘛？//:转发微博')\n",
      "(   '有防晒神器就是好，明儿出去荡一个，走你',\n",
      "    '我的上学神器到了不知道驾驭的了史上最高清凉度吗？',\n",
      "    '看评论p萨们对之前推荐的V脸神器热情很高，这款神器由荷兰的皇家飞利浦美容研发中心研发，深受很多好莱坞女星的喜爱。v脸嫩肤效果立竿见影，再搭配我的“五步V脸法”，让你化繁为简，告别复杂的V脸操，轻松实现小V脸！心动的美眉们赶快去瞧瞧吧，现在败神器还有神秘礼物等你哦~')\n",
      "('哦想起来了！是有那么一次//:回复://:', '回复:我呀卖水的//:谁啊？', '回复://://:回复://://:回复:')\n",
      "(   '\"为了能和小伙伴一起看【我就是我】',\n",
      "    '只要米粉想要，小米努力做到！转发为物流小伙伴鼓掌！',\n",
      "    '公布获奖名单啦~恭喜以下111名童鞋中奖，详见图片，快来看看有没有你吧！请获奖的小伙伴赶快私信工作人员地址噢~~另外没获奖的小伙伴也不要伤心，大家可以到净肌天猫旗舰店将自己喜欢的宝贝加入购物车，今晚24点不仅有优惠还会有很多惊喜哦！我在这里等你—&gt;')\n",
      "(   '让懂的人懂，让不懂的人不懂。让世界是世界，我甘心是我的茧。',\n",
      "    '对于世界，你可能只是一个人；但对于某个人，你却是整个世界晚安～',\n",
      "    '玥兒笑了，我的世界圓滿了！')\n",
      "(   '珂蜜丝肌秘精华水，补水、锁水的同时能防护你的肌肤，防止肌肤每天被空气中有害物质的伤害。超出你对精华水的想像。做一个净、透、润、氧的水氧美女。',\n",
      "    '这不是一瓶普通的水珂蜜丝肌秘精华水补水锁水天然防护防护肌肤因雾霾、空气污染等造成的损伤，帮助肌肤持续补充“新活水”，24小时水氧美肌',\n",
      "    '《美丽俏佳人》重磅力荐、众多美容达人、时尚教主亲测后极力推荐珂蜜丝肌源菁华乳液。一款从肌肤根源改变肌肤命运的全球多功能创新型全效修复产品，28天感受肌肤美丽蜕变。|《美丽俏佳人》重磅力荐珂蜜丝肌源菁华乳液')\n",
      "('睡着时，听得到海的声音…早安，默笙', '早安，cappuccino…', '【早安】有人能让你痛苦，说明你的修行还不够。')\n",
      "('没人爱你！我爱你！！', '小白。。我爱你。。哈哈', '我爱你，不是说说而已。')\n",
      "('手机也要支持，写的太好θ了！', '如果猫也会用手机直播的话......', '//:无水印手机壁纸!手机壁纸天天换~让你的手机拥有不一样的感觉。')\n",
      "(   '来，给爷笑一个，笑一个露齿的。。。',\n",
      "    '一个人散步，一个人逛街，一个人听歌，一个人吃月饼，一个人看月亮，一个人的团圆饭。又是一年中秋佳节，又要一个人冷清地度过，两瓶啤酒倒入肚中，昏昏沉沉地暂时忘却烦恼，孤独无人知，寂寞无人晓。举杯邀明月，对影成三人，月亮、影子，我，挺好的。',\n",
      "    '一个人至少拥有一个梦想，有一个理由去坚强。')\n",
      "(   '就係今晚10月6日晚上9:30記得支持!!!',\n",
      "    '今晚7点30分，欢迎准时收看《天下足球》！',\n",
      "    '【节目变更通知】由于直播仁川亚运会的赛事，今晚及下周一晚上将暂停两期《天下足球》。')\n",
      "(   '外在让别人认识你、内在让别人记得你',\n",
      "    '你在乎别人怎么看就输了',\n",
      "    '别人的寝室//:别人的寝室//:别人的寝室//:别人的寝室//:别人的寝室//:别人的寝室')\n",
      "('来啊，我们做朋友吧！', '就那句什麼帥不帥、有朋友沒朋友什麼的?', '我们越来越像真正的朋友。')\n",
      "(   '再也不用担心室友会把我的流量用到爆了再也不用担心手机玩着玩着会没电了再也不用担心打开一份学习资料十几分钟了',\n",
      "    '这一年，我们再也没有开学！（转）',\n",
      "    '如果有一天，让你心动的东西再也感动不了你，让你愤怒的再也激怒不了你，让你悲伤的再也不能让你流泪，你便知道这时光、这生活给了你什么；你为了成长，付出了什么。')\n",
      "(   '哈哈哈哈哈哈笑死我了',\n",
      "    '//:哈哈哈//:哈哈哈穷出了创意//:233333333//:哈哈哈//:哈哈哈//:哈哈哈哈哈//:哈哈哈哈',\n",
      "    '//:哈哈哈哈哈哈棒球也有这样的//:哈哈~')\n",
      "(   '谢谢今天参加新书发布会的朋友！感谢！',\n",
      "    '阿苏自由了宫羽我们去玩耍吧//:今天终于杀青～感谢所有的演职人员～～感谢～谢谢小苏苏～记得我们的约定',\n",
      "    '还有十几分钟今年的七夕就过完了，真的让我难忘啊，感谢那些爱我的人，谢谢！明天就快到了，新的开始')\n",
      "(   '为了孩子安全，这些问题太全面啦。。',\n",
      "    '现在的孩子们都太强了......「转」',\n",
      "    '【妈妈的素质有多高，孩子就能飞多高】用理性母爱帮孩子健康成长；提高自身素质是教育孩子关键；每个问题孩子背后，都有个问题妈妈；改变孩子从改变妈妈开始；没有教不好的孩子，只有不会教的妈妈；弱妈教出强孩子；给批评穿上表扬外衣；别把成绩作评价孩子标准;做个“糊涂”的妈妈；学会给孩子留面子')\n",
      "('【十二星座的双十一】就是有钱就是任性！', '这才是真正的有钱，任性！', '下班斗地主吧，我们玩牌都是一次性哒！有钱就是任性！')\n",
      "('下面的鞋可好看有没有~~', '有没有那么悲催啊，骑点车，全红绿灯', '有没有那么一个人，曾经让你发了疯的想，现在却拼了命的想忘掉。')\n",
      "(   '今天好不开心。想痛快地淋一场大雨结果一下去雨就停了。我找不回以前那个疯狂的我了。。要是有天我真的忘了我的梦想。请你一定要帮我记得。',\n",
      "    '虽然这张照片真的模糊到你们不一定看的清楚谁是谁，但我还是很开心见到她并且和她拍合照…我在:|朝阳北路',\n",
      "    '你这样，让我如何对你，好好上学，别谈恋爱，再说我真的怕异地恋了，我心里也有哪位了。接受不了。')\n"
     ]
    }
   ],
   "source": [
    "# summary\n",
    "for tsv in tsvs:\n",
    "    pp.pprint(summaryLexRank(tsv, 3))\n",
    "    "
   ]
  },
  {
   "cell_type": "code",
   "execution_count": 83,
   "metadata": {},
   "outputs": [
    {
     "name": "stdout",
     "output_type": "stream",
     "text": [
      "[   '我把中国版的跑男快录完了，那你有什么要问我的么？',\n",
      "    '//:从今天起，中国足球超级联赛将写下一个名字—石家庄祝贺',\n",
      "    '（接上篇）这些犯事的中国企业，他们只代表大部分中的一部分。他们缺的肯定不是对法则的理解，而是对法则的不尊重。缺的是对社会，客户，员工和股东的感恩，缺的是对未来，大众和事实的敬畏。对那些信奉说中国只缺法和规则的人来说，我们更缺的是信仰。这是信仰危机！你有什么？要什么？该放弃什么？']\n",
      "[   '来看看我拍的MV，点此播放&gt;&gt;|美拍（通过录制）',\n",
      "    '快来参加，把最爱的耳机放到你的碗里去！&gt;&gt;&gt;',\n",
      "    '来看看我拍的MV：“这一个有你分享的生日，三十年来头一回”，点此播放&gt;&gt;|美拍（通过录制）']\n",
      "['，超喜欢超喜欢，两个都超喜欢', '当你喜欢某一个人的时候，会是什么样的感觉？', '偶特别的喜欢了真的就是好棒了。']\n",
      "[   '本来没有我们，当然也没有你们，同样也没有帮助和伤害。',\n",
      "    '一大早就在这为了钱而吵架，本来就是说不清楚的帐，怎么就能那么平均哪？',\n",
      "    '五笔输入法好坑爹，我本来想说“我在洗漱“，打出来成了”我在洗翔“，你妹啊。']\n",
      "[   '两次北京暴雨我都不在北京，运气真的不错。回家的感觉真是好，何时再回北京未定。希望在北京的朋友一切顺利!我在',\n",
      "    '在微博顶导发现里面，来一起发现好玩的',\n",
      "    '北京同城，昨晚下单，今天晚上还没送到，是要到明天？还能再慢点么？']\n",
      "[   '每个人都会有这样的感觉吧',\n",
      "    '11.11你要了吗?',\n",
      "    '【12:00开抢1元车】这个手不能剁！！1元汽车还是要抢的！！12:00开抢英致G3手动致雅型，指导价：6.29万元，只要1块钱！！该剁手时要剁手，该出手时就出手！！抢车刷这里：|0.99元秒杀11月11日1元英致G3']\n",
      "['我以为。。。这就是幸福了。', '我只想要简单的幸福，我只想和你在一起，十指相扣，紧紧拥抱，甜蜜一吻。', '幸福取决于心态，而不取决于你拥有什么！']\n",
      "[   '一直看到的是图终于知道在哪里了!!!一定要去!!!',\n",
      "    '看完这一期快乐大本营，终于知道为什么会觉得自己不适合上综艺节目了……不唱歌的时候牙龈太抢戏',\n",
      "    '李光洙失散多年的弟弟终于找到了，这笑起来的样子简直一毛一样啊']\n",
      "['//://:转发微博', '需要潮鞋的关注我的微博', '每一个转发微博的人，都带有某种心情想要传达给某个人，可惜某个人不懂。']\n",
      "[   '看评论p萨们对之前推荐的V脸神器热情很高，这款神器由荷兰的皇家飞利浦美容研发中心研发，深受很多好莱坞女星的喜爱。v脸嫩肤效果立竿见影，再搭配我的“五步V脸法”，让你化繁为简，告别复杂的V脸操，轻松实现小V脸！心动的美眉们赶快去瞧瞧吧，现在败神器还有神秘礼物等你哦~',\n",
      "    '我的上学神器到了不知道驾驭的了史上最高清凉度吗？',\n",
      "    '有防晒神器就是好，明儿出去荡一个，走你']\n",
      "['哦想起来了！是有那么一次//:回复://:', '回复:别关注了//:买买买//://:搭配超赞', '无法一一回复大家，看这条微博吧。谢谢。']\n",
      "[   '只要米粉想要，小米努力做到！转发为物流小伙伴鼓掌！',\n",
      "    '公布获奖名单啦~恭喜以下111名童鞋中奖，详见图片，快来看看有没有你吧！请获奖的小伙伴赶快私信工作人员地址噢~~另外没获奖的小伙伴也不要伤心，大家可以到净肌天猫旗舰店将自己喜欢的宝贝加入购物车，今晚24点不仅有优惠还会有很多惊喜哦！我在这里等你—&gt;',\n",
      "    '你猜猜嘛邮箱手机号均可注册微博，来和小伙伴们一起玩耍']\n",
      "[   '让懂的人懂，让不懂的人不懂。让世界是世界，我甘心是我的茧。',\n",
      "    '【车生活】一个人必须为他得到的每样东西而战斗。怎么样？朋友！开始战斗吧！也许还来得及！（via:跑车世界）',\n",
      "    '【8秒醒时档案】彝族采风好喜欢，害羞、卖萌、撒娇、暖心的小醒醒，让你一次看个够今晚21:20贵州卫视《让世界听见》彝族音乐竞演，听苏醒唱那久违了的蓝调R&amp;Bfrom&lt;让世界听见&gt;第七期苏醒部分2014-09-28|20140928贵州卫视《让世界听见》第七期苏醒部分']\n",
      "[   '《美丽俏佳人》重磅力荐、众多美容达人、时尚教主亲测后极力推荐珂蜜丝肌源菁华乳液。一款从肌肤根源改变肌肤命运的全球多功能创新型全效修复产品，28天感受肌肤美丽蜕变。|《美丽俏佳人》重磅力荐珂蜜丝肌源菁华乳液',\n",
      "    '珂蜜丝肌秘精华水，补水、锁水的同时能防护你的肌肤，防止肌肤每天被空气中有害物质的伤害。超出你对精华水的想像。做一个净、透、润、氧的水氧美女。',\n",
      "    '【秋冬干燥季，肌肤也会说谎】秋冬皮肤特别易缺水，可是有些美眉的肌肤看起来反而冒油，其实这是肌肤在说谎，干燥季节除日常保湿外，我建议大家还要多敷保湿面膜，对于非常干的肌肤，在敷面膜前可以涂一层薄薄乳液，或先将没拆开的面膜放在温水中温热一分钟再敷，这可以加速保养品吸收，补水效果更好。']\n",
      "['睡着时，听得到海的声音…早安，默笙', '【早安】人生的方向，掌握在自己手里！', '【早安】有人能让你痛苦，说明你的修行还不够。']\n",
      "['没人爱你！我爱你！！', '小白。。我爱你。。哈哈', '我突然发现一个神奇的事情。我在这儿输qisini他竟然出来的是我爱你。这是个啥子原因呢。']\n",
      "[   '手机也要支持，写的太好θ了！',\n",
      "    '猜猜还能进几个？我在看【埃神单季27球全纪录超李金羽成中超第1人_体育_手机乐视网】，分享给你，快来看！',\n",
      "    '在观看演唱会的同时不妨使用手机YY拍摄视频，实时分享给不能亲临现场的小伙伴们哦']\n",
      "['来，给爷笑一个，笑一个露齿的。。。', '最后一个晚上咯~参与起来哦！！', '哇，感觉一个时代已经过去了']\n",
      "[   '今晚7点30分，欢迎准时收看《天下足球》！',\n",
      "    '【节目变更通知】由于直播仁川亚运会的赛事，今晚及下周一晚上将暂停两期《天下足球》。',\n",
      "    '就係今晚10月6日晚上9:30記得支持!!!']\n",
      "[   '外在让别人认识你、内在让别人记得你',\n",
      "    '细细的地想一想，身边的每一个人，每一件事都是别人经过周密计划然后再和自己沟通，挖个坑我就跳，真TM傻的可以～～～|建筑西巷',\n",
      "    '不管所有人怎么说，我都认为自己的感受才是正确的。喜欢的事自然可以坚持，不喜欢的怎么也长久不了。永远不要去羡慕别人的生活，即使那个人看起来快乐富足。永远不要去评价别人是否幸福，即使那个人看起来孤独无助。——幸福如人饮水，冷暖自知。你不是我，怎知我走过的路，我心中的乐与苦。']\n",
      "[   '来啊，我们做朋友吧！',\n",
      "    '有多少没睡的夜猫子呢？进来点个赞！在这条微博里聊聊天吧，结识下新的朋友，说不定会在这慢慢交到很多好朋友哦。或遇到有缘人以后每晚与你神聊！！',\n",
      "    '这是啥节奏？湖北十堰的朋友吱个声。']\n",
      "[   '这一年，我们再也没有开学！（转）',\n",
      "    '如果有一天，让你心动的东西再也感动不了你，让你愤怒的再也激怒不了你，让你悲伤的再也不能让你流泪，你便知道这时光、这生活给了你什么；你为了成长，付出了什么。',\n",
      "    '一直很好奇光谷怎么还没塌，还好再也不用去了']\n",
      "['哈哈哈哈哈哈笑死我了', '今天有人问我有木有二十岁，哈哈哈，人家已经是已婚少妇啦', '石油丸子生快是我//:哈哈哈哈哈！喜欢这个长存']\n",
      "[   '谢谢今天参加新书发布会的朋友！感谢！',\n",
      "    '感谢漂洋过海而来的人生第一个电影表演奖，虽未到场，鞠躬致敬！谢谢薇导～',\n",
      "    '谢谢兄长，跟随您的步伐！//:由！真好！真开心！祝福爷爷。感谢志愿者的努力！']\n",
      "[   '为了孩子安全，这些问题太全面啦。。',\n",
      "    '美国教育网报道，家长对孩子从不辅导功课，就是每天回来跟孩子聊十分钟，只聊四个问题，就完成了他的家庭教育：1、学校有什么好事发生吗？调查价值观；2、今天你有什么好的表现？是激励；3、今天有什么好收获吗？巩固所学；4、有什么需要爸爸的帮助吗？分清责任。',\n",
      "    '终于有希望了！被拐卖妇女儿童的买方也有罪了！这一切来之不易！我们的电影《亲爱的》一边在放映，另一面却每天收到各地刚丢失孩子的信息。我们还需要完整有效的防丢拐的预警系统！毕竟往好的方向发展了！替孩子们感谢一直在为此努力的人们！']\n",
      "[   '【十二星座的双十一】就是有钱就是任性！',\n",
      "    '任性的卖家。。。。只能用差评来对待了',\n",
      "    '任性。。//:首钢吧，中间那个不是人民英雄纪念碑吗//:偶尔看到款队标，还挺新鲜的~']\n",
      "['下面的鞋可好看有没有~~', '有没有觉得孩子很可怜。这时候被朱芳雨拿出来打亲情牌！洗白！', '这个时间放烟花有没有搞错睡觉啦！晚安善良的人']\n",
      "[   '虽然这张照片真的模糊到你们不一定看的清楚谁是谁，但我还是很开心见到她并且和她拍合照…我在:|朝阳北路',\n",
      "    '今天好不开心。想痛快地淋一场大雨结果一下去雨就停了。我找不回以前那个疯狂的我了。。要是有天我真的忘了我的梦想。请你一定要帮我记得。',\n",
      "    '你这样，让我如何对你，好好上学，别谈恋爱，再说我真的怕异地恋了，我心里也有哪位了。接受不了。']\n"
     ]
    }
   ],
   "source": [
    "# summary\n",
    "for tsv in tsvs:\n",
    "#     weibos = [tv.t.content for tv in tsv.ft_set]\n",
    "#     pp.pprint(summaryTextRank(weibos, 3))\n",
    "\n",
    "#     pp.pprint(summaryLexRank(tsv, 3))\n",
    "    pp.pprint(summaryTSVRank(tsv, 3, lbd=0.01, nmax=50))"
   ]
  },
  {
   "cell_type": "code",
   "execution_count": 72,
   "metadata": {},
   "outputs": [],
   "source": [
    "# def fun():\n",
    "#         summaryLexRank(tsv, 3)\n",
    "# %prun -s tottime fun()"
   ]
  },
  {
   "cell_type": "code",
   "execution_count": 85,
   "metadata": {},
   "outputs": [
    {
     "name": "stdout",
     "output_type": "stream",
     "text": [
      "<datatype.TSV object at 0x7fb9a1213f28> 0.587720763697\n",
      "0.274036989929\n"
     ]
    },
    {
     "data": {
      "image/png": "[encoded data removed]",
      "text/plain": [
       "<matplotlib.figure.Figure at 0x7fb9a1086390>"
      ]
     },
     "metadata": {},
     "output_type": "display_data"
    }
   ],
   "source": [
    "post = '\"今天是11月9日，即“119”；明天是11月10日'\n",
    "post = ' '.join(normal.filter_stop(jieba.lcut(post)))\n",
    "post_vec = vecit.vectorizer(post)\n",
    "# print(post_vec.data)\n",
    "t = Tweet('2015/10/11 14:33', \n",
    "          post, None, None, 1, 1)\n",
    "tv = TweetVector(post_vec,datetime(2015,10,11,14,33).timestamp(),1,t)\n",
    "\n",
    "def maxSimInTSVs(tv, tsvs):\n",
    "    maxSim_tsv = tsvs[0]\n",
    "    maxSim = maxSim_tsv.maxSim(tv)\n",
    "    sims = []\n",
    "    for tsv in tsvs:\n",
    "        sim = tsv.maxSim(tv)\n",
    "        sims.append(sim)\n",
    "        if sim > maxSim:\n",
    "            maxSim_tsv = tsv\n",
    "            maxSim = sim\n",
    "    return maxSim_tsv, maxSim, sims\n",
    "\n",
    "max_sim_tsv, max_sim, sims = maxSimInTSVs(tv, tsvs)\n",
    "print(max_sim_tsv, max_sim)\n",
    "print(max_sim_tsv.mbs(1))\n",
    "\n",
    "plt.bar(range(len(sims)),[tsv.mbs(0.5) for tsv in tsvs],width = 0.35,facecolor = 'yellowgreen',edgecolor = 'white')\n",
    "plt.bar(range(len(sims)),sims,width = 0.35,facecolor = 'lightskyblue',edgecolor = 'white')\n",
    "plt.show()"
   ]
  },
  {
   "cell_type": "code",
   "execution_count": 78,
   "metadata": {},
   "outputs": [
    {
     "data": {
      "image/png": "[encoded data removed]",
      "text/plain": [
       "<matplotlib.figure.Figure at 0x7fb9a0fae3c8>"
      ]
     },
     "metadata": {},
     "output_type": "display_data"
    }
   ],
   "source": [
    "def cosine_similarity(v1, v2):\n",
    "    if sparse.issparse(v1):\n",
    "        return (sparse.csr_matrix.dot(v1, v2.transpose()) / \n",
    "                (normFor1DSparseMatrixNonZero(v1) * normFor1DSparseMatrixNonZero(v2)))[0,0]\n",
    "    return (np.dot(v1, v2)) / (normFor1DSparseMatrixNonZero(v1) * normFor1DSparseMatrixNonZero(v2))\n",
    "sims_8_to_8 = [cosine_similarity(tsvs[-2].cv, tv.tvi) for tv in tsvs[-2].ft_set]\n",
    "sims_8_to_9 = [cosine_similarity(tsvs[-1].cv, tv.tvi) for tv in tsvs[-2].ft_set]\n",
    "sims_9_to_8 = [cosine_similarity(tsvs[-2].cv, tv.tvi) for tv in tsvs[-1].ft_set]\n",
    "sims_9_to_9 = [cosine_similarity(tsvs[-1].cv, tv.tvi) for tv in tsvs[-1].ft_set]\n",
    "plt.scatter(sims_8_to_8,sims_8_to_9,c='red',alpha=0.2,marker='o')\n",
    "plt.scatter(sims_9_to_8,sims_9_to_9,c='blue',alpha=0.2,marker='o')\n",
    "plt.show()"
   ]
  }
 ],
 "metadata": {
  "kernelspec": {
   "display_name": "Python 3",
   "language": "python",
   "name": "python3"
  },
  "language_info": {
   "codemirror_mode": {
    "name": "ipython",
    "version": 3
   },
   "file_extension": ".py",
   "mimetype": "text/x-python",
   "name": "python",
   "nbconvert_exporter": "python",
   "pygments_lexer": "ipython3",
   "version": "3.6.0"
  }
 },
 "nbformat": 4,
 "nbformat_minor": 2
}
