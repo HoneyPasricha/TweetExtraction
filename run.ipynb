{
 "cells": [
  {
   "cell_type": "markdown",
   "metadata": {},
   "source": [
    "王振华、祁雅萍\n",
    "## 静态部分\n",
    "1. 文本预处理(分词、停用词等)\n",
    "2. Tf-Idf将文本向量化\n",
    "3. kmeans初步聚类，每一个cluster用一个TSV来表示\n",
    "4. 对每个TSV摘要\n",
    "    - LexRank(或者其他)获得与该TSV中心最接近的Tweet\n",
    "    - 为防止获得的摘要内容过于接近，采用以下办法\n",
    "    - 按公式，获得尽可能接近TSV中心、又与之前得到的推特相似度尽可能小的Tweet，其中$\\lambda$是可以调节的参数\n",
    "    $$\n",
    "      t = argmax_{t_i} [ \\lambda \\frac{n_{t_i}}{n_{max}} LR(t_i) - (1-\\lambda)avg_{t_j \\in S}Sim(t_i, t_j)  ]\n",
    "    $$\n",
    "    - 往复上述步骤，获得若干条高度概括，内容有所不同的Tweet\n",
    "\n",
    "## 动态部分\n",
    "1. Pyramidal Time Frame\n",
    "2. 新的Tweet进来，寻找相似度最大cluster，比较“minimum bounding similarity”，\n",
    "    - 若MBS<Sim(new tweet)，则将该tweet加入该cluster；\n",
    "    - 若MBS>Sim(new tweet)，则新建一个cluster；\n",
    "3. 我们认为话题的时间分布是符合正态的，已知tsv可计算时间均值和方差，故可以此估计话题时间线是否已到达正态曲线的末端\n",
    "4. 当cluster的数量过多时，我们需要进行合并\n",
    "\n",
    "5. **timeline : variations方差**\n",
    "    \n",
    "## 待解决\n",
    "1. 词袋在开始时就已经确定，无法随时间变化而更新\n",
    "2. 使用kmeans聚类时，没有考虑时间\n",
    "    - 高永兵, 陈超, 熊振华,等. 基于个人微博特征的事件提取研究[J]. 计算机应用与软件, 2016, 33(7):47-51.\n",
    "    - 先将tweet按时间分组，分别聚类，再逐渐合并\n",
    "3. 只实现了静态部分，待效果达到要求后再考虑tweet stream \n",
    "4. 摘要只做到了extraction, 而不是abstraction. 需要将其进一步整合为3W1H的结构化数据\n",
    "    - what : 发生了什么\n",
    "    - who : 实体识别，命名体识别\n",
    "    - when : 每个聚类前1%作为事件发生时间\n",
    "    - how : 详细描述\n",
    "\n",
    "## 其他\n",
    "0. 当前品牌的地理分布不明显，暂时不考虑地理因素\n",
    "0. 仅针对Tweet这类体裁，需要考虑url, hashtag, 发帖人之间的关系等\n",
    "0. 暂时没有考虑发帖用户的比重(暂时令wi=1\n",
    "0. 对命名实体加权，使结果尽量返回带有命名实体的内容(tf加权, idf不变)\n",
    "\n",
    "## 其他2\n",
    "0. 出发词检测是否有事件\n",
    "0. 事件是否实现定义？\n"
   ]
  },
  {
   "cell_type": "code",
   "execution_count": 1,
   "metadata": {},
   "outputs": [],
   "source": [
    "%load_ext autoreload\n",
    "%autoreload 2\n",
    "import jieba\n",
    "import numpy as np\n",
    "import pprint\n",
    "pp = pprint.PrettyPrinter(indent=4)\n",
    "from datetime import datetime \n",
    "from snownlp import normal\n",
    "from matplotlib import pyplot as plt\n",
    "import sklearn.cluster as skcluster\n",
    "from datatype import *\n",
    "from summary import *\n",
    "from vectorizerIt import *\n",
    "from filereader import *"
   ]
  },
  {
   "cell_type": "code",
   "execution_count": 2,
   "metadata": {},
   "outputs": [
    {
     "name": "stdout",
     "output_type": "stream",
     "text": [
      "781\n",
      "!! ['post_id', 'post_time', 'content', 'poster_id', 'poster_url', 'repost_num', 'comment_num', 'repost_post_id', 'inner_flag']\n",
      "!! ['3.74487E+15', '', '', '', '', '', '', '', '']\n",
      "!! ['3.66561E+15', '2014/1/11 17:26', '????????~!!!!!!!!?????????????????????~!!^^??????????????~^^', '2600208451', '', '', '', '', '']\n",
      "11581\n"
     ]
    }
   ],
   "source": [
    "users = readUsers('data/weibo_user.csv')\n",
    "tweets = readTweets('data/user_posts.csv', noUrl=True, noTopic=True, noAtUser=True)"
   ]
  },
  {
   "cell_type": "code",
   "execution_count": 3,
   "metadata": {},
   "outputs": [
    {
     "name": "stderr",
     "output_type": "stream",
     "text": [
      "Building prefix dict from the default dictionary ...\n",
      "2017-07-14 02:02:51,476 : DEBUG : Building prefix dict from the default dictionary ...\n",
      "Dumping model to file cache /tmp/jieba.cache\n",
      "2017-07-14 02:02:58,386 : DEBUG : Dumping model to file cache /tmp/jieba.cache\n",
      "Loading model cost 7.295 seconds.\n",
      "2017-07-14 02:02:58,777 : DEBUG : Loading model cost 7.295 seconds.\n",
      "Prefix dict has been built succesfully.\n",
      "2017-07-14 02:02:58,789 : DEBUG : Prefix dict has been built succesfully.\n"
     ]
    }
   ],
   "source": [
    "# 分词\n",
    "corpusl_wsw = [jieba.lcut(t.content) for t in tweets]\n",
    "corpusl = [normal.filter_stop(c) for c in corpusl_wsw]\n",
    "corpus = [' '.join(c) for c in corpusl]"
   ]
  },
  {
   "cell_type": "code",
   "execution_count": 4,
   "metadata": {},
   "outputs": [],
   "source": [
    "# np.delete(vecit._transformer._dfidf, 0).shape\n",
    "# vecit._transformer._dfidf.shape"
   ]
  },
  {
   "cell_type": "code",
   "execution_count": 5,
   "metadata": {},
   "outputs": [],
   "source": [
    "# otfidf = TfIdf(corpus)\n",
    "odfidf = DfIdf(corpus)\n",
    "# ow2v = Word2Vec(corpusl, 100)\n",
    "# od2v = Doc2Vec(corpusl, 100)\n",
    "vecit = odfidf"
   ]
  },
  {
   "cell_type": "code",
   "execution_count": 6,
   "metadata": {},
   "outputs": [],
   "source": [
    "'''\n",
    "(tvi;tsi;wi;t)\n",
    "where tvi is the textual vector, \n",
    "tsi is the posted timestamp \n",
    "and wi is the UserRank value of the tweet’s author.\n",
    "'''\n",
    "def generateTriples(tweets, o):\n",
    "    triples = []\n",
    "    for i, t in enumerate(tweets):\n",
    "        tvi = o.vecs[i]\n",
    "        tsi = t.post_time\n",
    "        wi = 1\n",
    "        triples.append(TweetVector(tvi, tsi, wi, t))\n",
    "    return triples\n",
    "triples = generateTriples(tweets, vecit)"
   ]
  },
  {
   "cell_type": "code",
   "execution_count": 7,
   "metadata": {},
   "outputs": [
    {
     "data": {
      "text/plain": [
       "KMeans(algorithm='auto', copy_x=True, init='random', max_iter=300,\n",
       "    n_clusters=10, n_init=3, n_jobs=1, precompute_distances='auto',\n",
       "    random_state=None, tol=0.0001, verbose=0)"
      ]
     },
     "execution_count": 7,
     "metadata": {},
     "output_type": "execute_result"
    }
   ],
   "source": [
    "# k-means cluster\n",
    "n_clusters = 10\n",
    "km = skcluster.KMeans(n_clusters=n_clusters, init='random', n_init=3, verbose=0)\n",
    "# km = skcluster.MeanShift()\n",
    "km.fit(vecit.vecs)"
   ]
  },
  {
   "cell_type": "code",
   "execution_count": 8,
   "metadata": {},
   "outputs": [
    {
     "name": "stdout",
     "output_type": "stream",
     "text": [
      "11581 11581\n"
     ]
    }
   ],
   "source": [
    "'''\n",
    "tweet cluster vector is defined as a tuple: (sum_v; wsum_v; ts1; ts2; n; ft_set)\n",
    "'''\n",
    "print(len(km.labels_), len(triples))\n",
    "clusters = [[] for _ in range(n_clusters)]\n",
    "for i in range(len(km.labels_)):\n",
    "    clusters[km.labels_[i]].append(triples[i])\n",
    "# for c in clusters:\n",
    "#     print(len(c))\n",
    "tsvs = []\n",
    "for c in clusters:\n",
    "    if len(c) < 20:\n",
    "        continue\n",
    "    tsvs.append(TSV(c, 50))\n",
    "    "
   ]
  },
  {
   "cell_type": "code",
   "execution_count": 9,
   "metadata": {},
   "outputs": [
    {
     "data": {
      "image/png": "[encoded data removed]",
      "text/plain": [
       "<matplotlib.figure.Figure at 0x7f1aef347320>"
      ]
     },
     "metadata": {},
     "output_type": "display_data"
    }
   ],
   "source": [
    "plt.bar(range(len(tsvs)),[tsv.n for tsv in tsvs],width = 0.35,facecolor = 'gray',edgecolor = 'white')\n",
    "plt.show()"
   ]
  },
  {
   "cell_type": "code",
   "execution_count": 10,
   "metadata": {},
   "outputs": [
    {
     "data": {
      "image/png": "[encoded data removed]",
      "text/plain": [
       "<matplotlib.figure.Figure at 0x7f1aef3470f0>"
      ]
     },
     "metadata": {},
     "output_type": "display_data"
    }
   ],
   "source": [
    "plt.bar(range(len(clusters)),[len(c) for c in clusters],width = 0.35,facecolor = 'gray',edgecolor = 'white')\n",
    "plt.show()"
   ]
  },
  {
   "cell_type": "code",
   "execution_count": 11,
   "metadata": {},
   "outputs": [
    {
     "name": "stdout",
     "output_type": "stream",
     "text": [
      "('网络ID就像另一个世界中的自己，而昵称就是自己的另一个名字！', '作为一个猫奴我很解恨', '十月怀胎出一个帅哥十年修炼才出一个才子')\n",
      "('每个人都会有这样的感觉吧', '\"我感觉我最近可能会有点作。恩', '看它那熊样！想吐的感觉！')\n",
      "(   '孩子们都对探索之旅感兴趣呢，老家有奶牛带宝宝观摩一下哦//:奖品很给力嘛，今晚就让粑粑和倪儿一起玩起来！',\n",
      "    '今晚带上老婆孩子五星旋转餐厅FB一把，看海景品美食，这里的鳗鱼寿司味道很棒，',\n",
      "    '终于有希望了！被拐卖妇女儿童的买方也有罪了！这一切来之不易！我们的电影《亲爱的》一边在放映，另一面却每天收到各地刚丢失孩子的信息。我们还需要完整有效的防丢拐的预警系统！毕竟往好的方向发展了！替孩子们感谢一直在为此努力的人们！')\n",
      "('手机也要支持，写的太好θ了！', '//:无水印手机壁纸!手机壁纸天天换~让你的手机拥有不一样的感觉。', '如果猫也会用手机直播的话......')\n",
      "(   '\"今天是11月9日，即“119”；明天是11月10日',\n",
      "    '关于恒大足球训练基地11月份开放日的公告月份的基地开放日定于11月9日10:30-12:00',\n",
      "    '11点56分，小米天猫旗舰店支付金额破10亿！！')\n",
      "(   '来看看我拍的MV，点此播放&gt;&gt;|美拍（通过录制）',\n",
      "    '来看看我拍的MV：“”，点此播放&gt;&gt;|美拍（通过录制）',\n",
      "    '来看看我拍的MV，点此播放&gt;&gt;|美拍（通过录制）')\n",
      "(   '的士司机给我讲述了昨天他目睹的一幕闹剧，男子让女人不要出差，女人不答应，男人就砍伤她，路人出手相救打了男人的脑袋，男人扭头追路人，追不上，就自己捅了自己一刀。。我一搜，还真到处报道了，真是没用这男人。当今社会男人的心理脆弱变态的比例绝对远超女人',\n",
      "    '如果一个男人不打电话给你，因为他从来没有想过要打给你。如果一个男人对你好像毫不在乎，那么他真的完全不在意你。如果一个男人真爱你，怎么他都会来找你，如果他没来，说明——',\n",
      "    '如果一个男人不打电话给你，因为他从来没有想过要打给你。如果一个男人对你好像毫不在乎，那么他真的完全不在意你。如果一个男人真爱你，怎么他都会来找你，如果他没来，说明——')\n",
      "('哇！真的啊！真的啊！', '菇凉，你确定你这样真的好么…', '桀骜不驯真的是好有爱，顶起来。')\n",
      "('来啊，我们做朋友吧！', '就那句什麼帥不帥、有朋友沒朋友什麼的?', '我们越来越像真正的朋友。')\n"
     ]
    }
   ],
   "source": [
    "# summary\n",
    "for tsv in tsvs:\n",
    "    pp.pprint(summaryLexRank(tsv, 3, threshold=0.1))"
   ]
  },
  {
   "cell_type": "code",
   "execution_count": 12,
   "metadata": {},
   "outputs": [
    {
     "name": "stdout",
     "output_type": "stream",
     "text": [
      "['网络ID就像另一个世界中的自己，而昵称就是自己的另一个名字！', '十月怀胎出一个帅哥十年修炼才出一个才子', '作为一个猫奴我很解恨']\n",
      "['每个人都会有这样的感觉吧', '嘻嘻，看《全能星战》有看演唱会的感觉。我喜欢吴克羣。', '拔了一颗智齿之后感觉体重轻了很多，萌萌哒']\n",
      "[   '孩子们都对探索之旅感兴趣呢，老家有奶牛带宝宝观摩一下哦//:奖品很给力嘛，今晚就让粑粑和倪儿一起玩起来！',\n",
      "    '今晚带上老婆孩子五星旋转餐厅FB一把，看海景品美食，这里的鳗鱼寿司味道很棒，',\n",
      "    '终于有希望了！被拐卖妇女儿童的买方也有罪了！这一切来之不易！我们的电影《亲爱的》一边在放映，另一面却每天收到各地刚丢失孩子的信息。我们还需要完整有效的防丢拐的预警系统！毕竟往好的方向发展了！替孩子们感谢一直在为此努力的人们！']\n",
      "[   '手机也要支持，写的太好θ了！',\n",
      "    '我觉得习大大一定是开启了360手机卫士的骚扰拦截功能！',\n",
      "    '【dospy第一资讯】带有会动的眼睛LG发布新机AKA：上个月LG曾推出了一款名为AKA的概念手机，它最大的亮点就是装上自带的四种保护壳之后手机待机时屏幕上会显示出不同的动态眼睛，十分活泼可爱。根据国外媒体的消息，LG今天在韩国正式发布了这款手机，不过售价暂时还不清楚。']\n",
      "[   '\"今天是11月9日，即“119”；明天是11月10日',\n",
      "    '关于恒大足球训练基地11月份开放日的公告月份的基地开放日定于11月9日10:30-12:00',\n",
      "    '11点56分，小米天猫旗舰店支付金额破10亿！！']\n",
      "[   '来看看我拍的MV，点此播放&gt;&gt;|美拍（通过录制）',\n",
      "    '快来参加，把最爱的耳机放到你的碗里去！&gt;&gt;&gt;',\n",
      "    '来看看我拍的MV：“这一个有你分享的生日，三十年来头一回”，点此播放&gt;&gt;|美拍（通过录制）']\n",
      "[   '的士司机给我讲述了昨天他目睹的一幕闹剧，男子让女人不要出差，女人不答应，男人就砍伤她，路人出手相救打了男人的脑袋，男人扭头追路人，追不上，就自己捅了自己一刀。。我一搜，还真到处报道了，真是没用这男人。当今社会男人的心理脆弱变态的比例绝对远超女人',\n",
      "    '如果一个男人不打电话给你，因为他从来没有想过要打给你。如果一个男人对你好像毫不在乎，那么他真的完全不在意你。如果一个男人真爱你，怎么他都会来找你，如果他没来，说明——',\n",
      "    '有些爱，只能止于唇齿，掩于岁月。我喜欢来日方长的男人和不堪回首的女人，是他们把生活搞得意味深长。']\n",
      "[   '哇！真的啊！真的啊！',\n",
      "    '//://:转发微博',\n",
      "    '现在就在玩了@+一个人的昵称可以让对方快速看到你的微博；看到好玩的微博可以直接转发；对某个微博有啥想说的可以在下面评论；有事还可以单独私信；遇到喜欢的明星或小伙伴记得加关注…别忘了，随时随地分享你的新鲜事儿']\n",
      "[   '来啊，我们做朋友吧！',\n",
      "    '有多少没睡的夜猫子呢？进来点个赞！在这条微博里聊聊天吧，结识下新的朋友，说不定会在这慢慢交到很多好朋友哦。或遇到有缘人以后每晚与你神聊！！',\n",
      "    'Mark，喜欢烧脑电影的朋友快来~']\n"
     ]
    }
   ],
   "source": [
    "# summary\n",
    "for tsv in tsvs:\n",
    "#     weibos = [tv.t.content for tv in tsv.ft_set]\n",
    "#     pp.pprint(summaryTextRank(weibos, 3))\n",
    "\n",
    "#     pp.pprint(summaryLexRank(tsv, 3))\n",
    "    pp.pprint(summaryTSVRank(tsv, 3, lbd=0.01, nmax=50))"
   ]
  },
  {
   "cell_type": "code",
   "execution_count": 13,
   "metadata": {},
   "outputs": [],
   "source": [
    "# def fun():\n",
    "#         summaryLexRank(tsv, 3)\n",
    "# %prun -s tottime fun()"
   ]
  },
  {
   "cell_type": "code",
   "execution_count": 14,
   "metadata": {},
   "outputs": [
    {
     "name": "stdout",
     "output_type": "stream",
     "text": [
      "<datatype.TSV object at 0x7f1aef43a6a0> 0.640593903539\n",
      "0.230693312314\n"
     ]
    },
    {
     "data": {
      "image/png": "[encoded data removed]",
      "text/plain": [
       "<matplotlib.figure.Figure at 0x7f1aed19ce10>"
      ]
     },
     "metadata": {},
     "output_type": "display_data"
    }
   ],
   "source": [
    "post = '\"今天是11月9日，即“119”；明天是11月10日'\n",
    "post = ' '.join(normal.filter_stop(jieba.lcut(post)))\n",
    "post_vec = vecit.vectorizer(post)\n",
    "# print(post_vec.data)\n",
    "t = Tweet('2015/10/11 14:33', \n",
    "          post, None, None, 1, 1)\n",
    "tv = TweetVector(post_vec,datetime(2015,10,11,14,33).timestamp(),1,t)\n",
    "\n",
    "def maxSimInTSVs(tv, tsvs):\n",
    "    maxSim_tsv = tsvs[0]\n",
    "    maxSim = maxSim_tsv.maxSim(tv)\n",
    "    sims = []\n",
    "    for tsv in tsvs:\n",
    "        sim = tsv.maxSim(tv)\n",
    "        sims.append(sim)\n",
    "        if sim > maxSim:\n",
    "            maxSim_tsv = tsv\n",
    "            maxSim = sim\n",
    "    return maxSim_tsv, maxSim, sims\n",
    "\n",
    "max_sim_tsv, max_sim, sims = maxSimInTSVs(tv, tsvs)\n",
    "print(max_sim_tsv, max_sim)\n",
    "print(max_sim_tsv.mbs(1))\n",
    "\n",
    "plt.bar(range(len(sims)),[tsv.mbs(0.5) for tsv in tsvs],width = 0.35,facecolor = 'yellowgreen',edgecolor = 'white')\n",
    "plt.bar(range(len(sims)),sims,width = 0.35,facecolor = 'lightskyblue',edgecolor = 'white')\n",
    "plt.show()"
   ]
  },
  {
   "cell_type": "code",
   "execution_count": 15,
   "metadata": {},
   "outputs": [
    {
     "data": {
      "image/png": "[encoded data removed]",
      "text/plain": [
       "<matplotlib.figure.Figure at 0x7f1aed12dc50>"
      ]
     },
     "metadata": {},
     "output_type": "display_data"
    }
   ],
   "source": [
    "def cosine_similarity(v1, v2):\n",
    "    if sparse.issparse(v1):\n",
    "        return (sparse.csr_matrix.dot(v1, v2.transpose()) / \n",
    "                (normFor1DSparseMatrixNonZero(v1) * normFor1DSparseMatrixNonZero(v2)))[0,0]\n",
    "    return (np.dot(v1, v2)) / (normFor1DSparseMatrixNonZero(v1) * normFor1DSparseMatrixNonZero(v2))\n",
    "sims_8_to_8 = [cosine_similarity(tsvs[-2].cv, tv.tvi) for tv in tsvs[-2].ft_set]\n",
    "sims_8_to_9 = [cosine_similarity(tsvs[-1].cv, tv.tvi) for tv in tsvs[-2].ft_set]\n",
    "sims_9_to_8 = [cosine_similarity(tsvs[-2].cv, tv.tvi) for tv in tsvs[-1].ft_set]\n",
    "sims_9_to_9 = [cosine_similarity(tsvs[-1].cv, tv.tvi) for tv in tsvs[-1].ft_set]\n",
    "plt.scatter(sims_8_to_8,sims_8_to_9,c='red',alpha=0.2,marker='o')\n",
    "plt.scatter(sims_9_to_8,sims_9_to_9,c='blue',alpha=0.2,marker='o')\n",
    "plt.show()"
   ]
  },
  {
   "cell_type": "code",
   "execution_count": 41,
   "metadata": {},
   "outputs": [],
   "source": [
    "def fun(i, text):\n",
    "    return [w for w in jieba.cut(text) for _ in range(int(i))]"
   ]
  },
  {
   "cell_type": "code",
   "execution_count": 28,
   "metadata": {},
   "outputs": [
    {
     "name": "stdout",
     "output_type": "stream",
     "text": [
      " "
     ]
    },
    {
     "data": {
      "text/plain": [
       "         2000004 function calls in 6.601 seconds\n",
       "\n",
       "   Ordered by: internal time\n",
       "\n",
       "   ncalls  tottime  percall  cumtime  percall filename:lineno(function)\n",
       "        1    5.224    5.224    6.601    6.601 <ipython-input-25-0920ff5ec6bc>:1(fun)\n",
       "  2000000    1.376    0.000    1.376    0.000 __init__.py:272(cut)\n",
       "        1    0.000    0.000    6.601    6.601 {built-in method builtins.exec}\n",
       "        1    0.000    0.000    6.601    6.601 <string>:1(<module>)\n",
       "        1    0.000    0.000    0.000    0.000 {method 'disable' of '_lsprof.Profiler' objects}"
      ]
     },
     "metadata": {},
     "output_type": "display_data"
    }
   ],
   "source": [
    "%prun fun(2e6, '有多少没睡的夜猫子呢？进来点个赞！')"
   ]
  },
  {
   "cell_type": "code",
   "execution_count": null,
   "metadata": {},
   "outputs": [],
   "source": [
    "%prun fun(1e6, '有多少没睡的夜猫子呢？进来点个赞！')"
   ]
  },
  {
   "cell_type": "code",
   "execution_count": 51,
   "metadata": {},
   "outputs": [
    {
     "name": "stdout",
     "output_type": "stream",
     "text": [
      " "
     ]
    },
    {
     "data": {
      "text/plain": [
       "         30200009 function calls in 143.412 seconds\n",
       "\n",
       "   Ordered by: internal time\n",
       "\n",
       "   ncalls  tottime  percall  cumtime  percall filename:lineno(function)\n",
       "   200000   22.908    0.000   46.895    0.000 __init__.py:37(viterbi)\n",
       "   200000   14.234    0.000   16.179    0.000 __init__.py:178(get_DAG)\n",
       "  3600000   13.681    0.000   20.403    0.000 __init__.py:175(<genexpr>)\n",
       "  3300000   12.601    0.000   34.689    0.000 {built-in method builtins.max}\n",
       "  7900000   11.620    0.000   11.620    0.000 {method 'get' of 'dict' objects}\n",
       "   200000    9.775    0.000   38.477    0.000 __init__.py:170(calc)\n",
       "  1100000    9.060    0.000  126.687    0.000 __init__.py:232(__cut_DAG)\n",
       "  1600000    8.845    0.000   12.025    0.000 __init__.py:49(<listcomp>)\n",
       "        1    8.773    8.773  143.212  143.212 <ipython-input-41-0ad46a83e791>:2(<listcomp>)\n",
       "   600000    4.901    0.000   51.946    0.000 __init__.py:59(__cut)\n",
       "  1100001    4.729    0.000  134.439    0.000 __init__.py:272(cut)\n",
       "   600000    4.300    0.000   61.978    0.000 __init__.py:81(cut)\n",
       "   800001    3.997    0.000    3.997    0.000 {method 'split' of '_sre.SRE_Pattern' objects}\n",
       "  1200000    3.879    0.000    3.879    0.000 {method 'match' of '_sre.SRE_Pattern' objects}\n",
       "  2300000    3.845    0.000    3.845    0.000 {built-in method math.log}\n",
       "  2500000    2.051    0.000    2.051    0.000 {method 'append' of 'list' objects}\n",
       "  1800000    1.434    0.000    1.434    0.000 {built-in method builtins.len}\n",
       "   600000    1.432    0.000    1.684    0.000 __init__.py:54(<genexpr>)\n",
       "   200001    0.586    0.000    0.880    0.000 _compat.py:34(strdecode)\n",
       "   200001    0.294    0.000    0.294    0.000 {built-in method builtins.isinstance}\n",
       "   200000    0.266    0.000    0.266    0.000 __init__.py:166(check_initialized)\n",
       "        1    0.200    0.200  143.412  143.412 <string>:1(<module>)\n",
       "        1    0.000    0.000  143.412  143.412 {built-in method builtins.exec}\n",
       "        1    0.000    0.000  143.212  143.212 <ipython-input-41-0ad46a83e791>:1(fun)\n",
       "        1    0.000    0.000    0.000    0.000 {method 'disable' of '_lsprof.Profiler' objects}"
      ]
     },
     "metadata": {},
     "output_type": "display_data"
    }
   ],
   "source": [
    "lt = ''.join(['有多少没睡的夜猫子呢？进来点个赞！']*int(1e5))\n",
    "%prun fun(10, lt)"
   ]
  }
 ],
 "metadata": {
  "kernelspec": {
   "display_name": "Python 3",
   "language": "python",
   "name": "python3"
  },
  "language_info": {
   "codemirror_mode": {
    "name": "ipython",
    "version": 3
   },
   "file_extension": ".py",
   "mimetype": "text/x-python",
   "name": "python",
   "nbconvert_exporter": "python",
   "pygments_lexer": "ipython3",
   "version": "3.6.0"
  }
 },
 "nbformat": 4,
 "nbformat_minor": 2
}
